{
 "cells": [
  {
   "cell_type": "markdown",
   "id": "03d92437",
   "metadata": {},
   "source": [
    "## 云电脑评价情感分类"
   ]
  },
  {
   "cell_type": "markdown",
   "id": "28cb40ea",
   "metadata": {},
   "source": [
    "### 1.数据准备和模型配置"
   ]
  },
  {
   "cell_type": "code",
   "execution_count": null,
   "id": "58c972bc",
   "metadata": {},
   "outputs": [],
   "source": [
    "# 解压ERNIE3.0模型到项目中\n",
    "!unzip -oq ERNIE.zip"
   ]
  },
  {
   "cell_type": "code",
   "execution_count": null,
   "id": "b631039c",
   "metadata": {},
   "outputs": [],
   "source": [
    "# 解压基础文本情感分析模型到项目中\n",
    "import os\n",
    "os.makedirs(\"base_model\", exist_ok=True)\n",
    "!unzip -oq base_model.zip -d base_model/"
   ]
  },
  {
   "cell_type": "markdown",
   "id": "c2b37d01",
   "metadata": {},
   "source": [
    "### 2.微调"
   ]
  },
  {
   "cell_type": "code",
   "execution_count": null,
   "id": "605a93a5",
   "metadata": {},
   "outputs": [],
   "source": [
    "cd ERNIE\\applications\\tasks\\text_classification"
   ]
  },
  {
   "cell_type": "code",
   "execution_count": null,
   "id": "ec4bc076",
   "metadata": {},
   "outputs": [],
   "source": [
    "# 微调训练\n",
    "# ernie 中文文本分类模型\n",
    "# 基于json实现预置网络训练。\n",
    "!python run_trainer.py --param_path config/cls_ernie_fc_ch.json"
   ]
  },
  {
   "cell_type": "markdown",
   "id": "4811137e",
   "metadata": {},
   "source": [
    "### 3.使用基础模型进行预测"
   ]
  },
  {
   "cell_type": "code",
   "execution_count": null,
   "id": "6468072c",
   "metadata": {},
   "outputs": [],
   "source": [
    "# 创建输出结果文件夹\n",
    "os.makedirs(\"output\", exist_ok=True)\n",
    "# 预测, 预测过程中的日志自动保存在output/predict_result_base.txt文件中。\n",
    "%cd ERNIE/applications/tasks/text_classification\n",
    "!python run_infer.py --param_path config/cls_ernie_fc_ch_infer_base.json"
   ]
  },
  {
   "cell_type": "markdown",
   "id": "00dd4fb5",
   "metadata": {},
   "source": [
    "### 4.使用微调后模型进行预测"
   ]
  },
  {
   "cell_type": "code",
   "execution_count": null,
   "id": "74cc7999",
   "metadata": {},
   "outputs": [],
   "source": [
    "# 预测, 预测过程中的日志自动保存在output/predict_result_finetune.txt文件中。\n",
    "%cd ERNIE/applications/tasks/text_classification\n",
    "!python run_infer.py --param_path config/cls_ernie_fc_ch_infer_finetune.json"
   ]
  },
  {
   "cell_type": "markdown",
   "id": "801b86f4",
   "metadata": {},
   "source": [
    "### 5.微调前后的对比"
   ]
  },
  {
   "cell_type": "code",
   "execution_count": null,
   "id": "cd251ec8",
   "metadata": {},
   "outputs": [],
   "source": [
    "txt_base = \"output/predict_result_base.txt\"\n",
    "txt_finetune = \"output/predict_result_finetune.txt\"\n",
    "\n",
    "with open(txt_base, 'r') as file:\n",
    "    txt_base_list = []\n",
    "    for line in file:\n",
    "        txt_base_list.append(line.strip())  # strip()函数用于去除行末的换行符\n",
    "with open(txt_finetune, 'r') as file:\n",
    "    txt_finetune_list = []\n",
    "    for line in file:\n",
    "        txt_finetune_list.append(line.strip())  # strip()函数用于去除行末的换行符\n",
    "\n",
    "# 计算错误类别的得分对比与正确类别的得分对比，这里我们以微调后预测的类别作为正确类别\n",
    "\n",
    "# 首先得到预测类别的列表，如[0, 1, 0, 0, ...]\n",
    "label_list = []\n",
    "for item in txt_finetune_list:\n",
    "    data = item.split(\"\\t\")[1][1:-1].split(\", \")\n",
    "    if float(data[0]) > float(data[1]):\n",
    "        label_list.append(0)\n",
    "    else:\n",
    "        label_list.append(1)\n",
    "length = len(label_list)\n",
    "\n",
    "# 统计微调前与微调后错误类别的平均得分以及正确类别的平均得分\n",
    "base_incorrect, base_correct, finetune_incorrect, finetune_correct = 0, 0, 0, 0\n",
    "for index in range(length):\n",
    "    # 微调前的\n",
    "    item = txt_base_list[index]\n",
    "    data = item.split(\"\\t\")[1][1:-1].split(\", \")\n",
    "    base_incorrect += float(data[1 - label_list[index]])\n",
    "    base_correct += float(data[label_list[index]])\n",
    "    \n",
    "    # 微调后的\n",
    "    item = txt_finetune_list[index]\n",
    "    data = item.split(\"\\t\")[1][1:-1].split(\", \")\n",
    "    finetune_incorrect += float(data[1 - label_list[index]])\n",
    "    finetune_correct += float(data[label_list[index]])\n",
    "\n",
    "base_incorrect /= length\n",
    "base_correct /= length\n",
    "finetune_incorrect /= length\n",
    "finetune_correct /= length\n",
    "\n",
    "print(\"错误类别平均得分，\" + \"微调前：\", base_incorrect, \"微调后：\", finetune_incorrect)\n",
    "print(\"正确类别平均得分，\" + \"微调前：\", base_correct, \"微调后：\", finetune_correct)"
   ]
  }
 ],
 "metadata": {
  "kernelspec": {
   "display_name": "Python 3",
   "language": "python",
   "name": "python3"
  },
  "language_info": {
   "codemirror_mode": {
    "name": "ipython",
    "version": 3
   },
   "file_extension": ".py",
   "mimetype": "text/x-python",
   "name": "python",
   "nbconvert_exporter": "python",
   "pygments_lexer": "ipython3",
   "version": "3.8.3"
  }
 },
 "nbformat": 4,
 "nbformat_minor": 5
}
